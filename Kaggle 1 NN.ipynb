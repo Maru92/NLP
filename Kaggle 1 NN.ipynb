{
 "cells": [
  {
   "cell_type": "markdown",
   "metadata": {},
   "source": [
    "# Import #"
   ]
  },
  {
   "cell_type": "code",
   "execution_count": 61,
   "metadata": {},
   "outputs": [],
   "source": [
    "from sklearn import svm\n",
    "import numpy as np\n",
    "import pandas as pd\n",
    "from sklearn.model_selection import train_test_split\n",
    "\n",
    "import keras\n",
    "from keras.models import Sequential\n",
    "from keras.layers import Dense\n",
    "from keras.layers import Dropout"
   ]
  },
  {
   "cell_type": "markdown",
   "metadata": {},
   "source": [
    "# Lecture fichier #"
   ]
  },
  {
   "cell_type": "code",
   "execution_count": 2,
   "metadata": {
    "collapsed": true
   },
   "outputs": [],
   "source": [
    "test = pd.read_csv('test.csv',sep=',')\n",
    "train = pd.read_csv('train.csv',sep=',')"
   ]
  },
  {
   "cell_type": "markdown",
   "metadata": {},
   "source": [
    "# Scaling #"
   ]
  },
  {
   "cell_type": "code",
   "execution_count": 30,
   "metadata": {},
   "outputs": [],
   "source": [
    "variables = train.columns.values\n",
    "p = train.shape[1]\n",
    "variables_cat = []\n",
    "variables_bin = []\n",
    "variables_other = []\n",
    "for i in range(2,p):\n",
    "    name = variables[i]\n",
    "    if(name.find(\"cat\")!=-1):\n",
    "        variables_cat.append(name)\n",
    "    elif(name.find(\"bin\")!=-1):\n",
    "        variables_bin.append(name)\n",
    "    else:\n",
    "        variables_other.append(name)\n",
    "\n",
    "Mean = np.zeros(len(variables_other))\n",
    "Std = np.zeros(len(variables_other))\n",
    "for i in range(len(variables_other)):\n",
    "    Mean[i] = np.mean(train[variables_other[i]])\n",
    "    Std[i] = np.std(train[variables_other[i]])\n",
    "    train[variables_other[i]] = (train[variables_other[i]]-Mean[i])/Std[i]\n",
    "    test[variables_other[i]] = (test[variables_other[i]]-Mean[i])/Std[i]  #We scale the test_set with the same Mean and Std\n",
    "    test[variables_other[i]] = (test[variables_other[i]]-Mean[i])/Std[i]"
   ]
  },
  {
   "cell_type": "markdown",
   "metadata": {},
   "source": [
    "# Séparation pour Cross validation #"
   ]
  },
  {
   "cell_type": "code",
   "execution_count": 67,
   "metadata": {
    "scrolled": false
   },
   "outputs": [],
   "source": [
    "X = train.iloc[:,2:10].values\n",
    "y = train.iloc[:,1].values\n",
    "X_submit = test.iloc[:,1:9].values\n",
    "X_submit_id = test.iloc[:,0].values"
   ]
  },
  {
   "cell_type": "code",
   "execution_count": 68,
   "metadata": {},
   "outputs": [],
   "source": [
    "X_train, X_test, y_train, y_test = train_test_split(X, y, test_size = 0.8, random_state = None)"
   ]
  },
  {
   "cell_type": "markdown",
   "metadata": {},
   "source": [
    "# Classifier #"
   ]
  },
  {
   "cell_type": "markdown",
   "metadata": {},
   "source": [
    "Rk: on demande une sortie en tant que probabilité donc on peut \"abandonner\" la target binaire. Ou répéter des classifications et faire de l'averaging\n",
    "Rk: Le NN ne fait que prédire 0  ...\n",
    "Donc accuracy a 0.9630 et les probabilités sont ridicukes à la fin...\n",
    "RK: très faible proportion de mec ayant un 1: 3.6%\n",
    "RK: Tester de sélectionner moins de paramètres\n",
    "RK: Faire varier choix de loss 'mean_squared_error', 'binary_crossentropy'\n",
    "RK: Faire varier le choix de la metrics \n"
   ]
  },
  {
   "cell_type": "code",
   "execution_count": 78,
   "metadata": {},
   "outputs": [
    {
     "name": "stdout",
     "output_type": "stream",
     "text": [
      "Epoch 1/5\n",
      "119042/119042 [==============================] - 2s - loss: 0.0557 - acc: 0.9623     \n",
      "Epoch 2/5\n",
      "119042/119042 [==============================] - 2s - loss: 0.0360 - acc: 0.9631     \n",
      "Epoch 3/5\n",
      "119042/119042 [==============================] - 2s - loss: 0.0358 - acc: 0.9631     \n",
      "Epoch 4/5\n",
      "119042/119042 [==============================] - 2s - loss: 0.0357 - acc: 0.9631     \n",
      "Epoch 5/5\n",
      "119042/119042 [==============================] - 2s - loss: 0.0357 - acc: 0.9631     \n"
     ]
    },
    {
     "data": {
      "text/plain": [
       "<keras.callbacks.History at 0x7f6326634dd8>"
      ]
     },
     "execution_count": 78,
     "metadata": {},
     "output_type": "execute_result"
    }
   ],
   "source": [
    "rate = 0.001\n",
    "\n",
    "classifier = Sequential()\n",
    "classifier.add(Dense(units = 10, use_bias=True, kernel_initializer='random_uniform', bias_initializer='zeros', activation = 'relu', input_dim = 8))\n",
    "classifier.add(Dropout(rate, noise_shape=None, seed=None))\n",
    "classifier.add(Dense(units = 1, use_bias=True, kernel_initializer='random_uniform', bias_initializer='zeros', activation = 'sigmoid'))\n",
    "classifier.compile(optimizer = 'adam', loss = 'mean_squared_error', metrics = ['accuracy']) \n",
    "classifier.fit(X_train, y_train, batch_size = 100, epochs = 5)"
   ]
  },
  {
   "cell_type": "markdown",
   "metadata": {},
   "source": [
    "# Normalized Gini coefficient #\n",
    "\n",
    "Je peux essayer de transformer cette fonction pour qu'elle soit gérable par keras en tant que fonction à optimiser. Tensor has no arg len()"
   ]
  },
  {
   "cell_type": "code",
   "execution_count": 76,
   "metadata": {},
   "outputs": [],
   "source": [
    "##TODO: Check the code\n",
    "def gini(actual, pred, cmpcol = 0, sortcol = 1):\n",
    "    #assert( len(actual) == len(pred) )\n",
    "    all = np.asarray(np.c_[ actual, pred, np.arange(len(actual)) ], dtype=np.float)\n",
    "    all = all[ np.lexsort((all[:,2], -1*all[:,1])) ]\n",
    "    totalLosses = all[:,0].sum()\n",
    "    giniSum = all[:,0].cumsum().sum() / totalLosses\n",
    " \n",
    "    giniSum -= (len(actual) + 1) / 2.\n",
    "    return giniSum / len(actual)\n",
    "    \n",
    "def gini_normalized(a, p):\n",
    "    return gini(a, p) / gini(a, a)"
   ]
  },
  {
   "cell_type": "markdown",
   "metadata": {},
   "source": [
    "# Prediction #"
   ]
  },
  {
   "cell_type": "code",
   "execution_count": 63,
   "metadata": {},
   "outputs": [
    {
     "name": "stdout",
     "output_type": "stream",
     "text": [
      "The Gini coefficient is:  -0.00140751453458\n"
     ]
    }
   ],
   "source": [
    "y_pred = classifier.predict(X_test)\n",
    "y_pred = (y_pred > 0.5)\n",
    "gini_value = gini_normalized(y_test,y_pred)\n",
    "print(\"The Gini coefficient is: \", gini_value)"
   ]
  },
  {
   "cell_type": "markdown",
   "metadata": {},
   "source": [
    "# Prediction finale #"
   ]
  },
  {
   "cell_type": "code",
   "execution_count": 64,
   "metadata": {
    "collapsed": true
   },
   "outputs": [],
   "source": [
    "y_pred_res = classifier.predict(X_submit)\n",
    "#y_pred_submit = (y_pred_submit > 0.5)\n",
    "\n",
    "#Create the Kaggle submission\n",
    "res=[['id','target']]\n",
    "for i in range(len(X_submit)):\n",
    "    pair=[X_submit_id[i],y_pred_res[i][0]]\n",
    "    res.append(pair)"
   ]
  },
  {
   "cell_type": "markdown",
   "metadata": {},
   "source": [
    "# Ecriture du résultat #"
   ]
  },
  {
   "cell_type": "code",
   "execution_count": 65,
   "metadata": {
    "collapsed": true
   },
   "outputs": [],
   "source": [
    "submission = pd.DataFrame(res)\n",
    "submission.to_csv('submission.csv', index=False, header=False) \n"
   ]
  },
  {
   "cell_type": "code",
   "execution_count": 49,
   "metadata": {},
   "outputs": [
    {
     "name": "stderr",
     "output_type": "stream",
     "text": [
      "/home/marc-jourdan/anaconda3/lib/python3.6/site-packages/ipykernel_launcher.py:7: RuntimeWarning: invalid value encountered in double_scalars\n",
      "  import sys\n"
     ]
    },
    {
     "data": {
      "text/plain": [
       "nan"
      ]
     },
     "execution_count": 49,
     "metadata": {},
     "output_type": "execute_result"
    }
   ],
   "source": [
    "gini(y_pred,y_test)"
   ]
  },
  {
   "cell_type": "code",
   "execution_count": 57,
   "metadata": {},
   "outputs": [
    {
     "data": {
      "text/plain": [
       "0.036760135078375701"
      ]
     },
     "execution_count": 57,
     "metadata": {},
     "output_type": "execute_result"
    }
   ],
   "source": []
  },
  {
   "cell_type": "code",
   "execution_count": 58,
   "metadata": {},
   "outputs": [
    {
     "data": {
      "text/plain": [
       "0.03636936388264695"
      ]
     },
     "execution_count": 58,
     "metadata": {},
     "output_type": "execute_result"
    }
   ],
   "source": []
  },
  {
   "cell_type": "code",
   "execution_count": null,
   "metadata": {
    "collapsed": true
   },
   "outputs": [],
   "source": []
  }
 ],
 "metadata": {
  "kernelspec": {
   "display_name": "Python 3",
   "language": "python",
   "name": "python3"
  },
  "language_info": {
   "codemirror_mode": {
    "name": "ipython",
    "version": 3
   },
   "file_extension": ".py",
   "mimetype": "text/x-python",
   "name": "python",
   "nbconvert_exporter": "python",
   "pygments_lexer": "ipython3",
   "version": "3.6.1"
  }
 },
 "nbformat": 4,
 "nbformat_minor": 2
}
