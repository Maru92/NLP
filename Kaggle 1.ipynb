{
 "cells": [
  {
   "cell_type": "markdown",
   "metadata": {},
   "source": [
    "# Import #"
   ]
  },
  {
   "cell_type": "code",
   "execution_count": 1,
   "metadata": {
    "collapsed": true
   },
   "outputs": [],
   "source": [
    "from sklearn import svm\n",
    "import numpy as np\n",
    "import pandas as pd"
   ]
  },
  {
   "cell_type": "markdown",
   "metadata": {},
   "source": [
    "# Lecture fichier #"
   ]
  },
  {
   "cell_type": "code",
   "execution_count": 19,
   "metadata": {},
   "outputs": [],
   "source": [
    "test = pd.read_csv('test.csv',sep=',',index_col = 0)\n",
    "train = pd.read_csv('train.csv',sep=',',index_col = 0)"
   ]
  },
  {
   "cell_type": "markdown",
   "metadata": {},
   "source": [
    "# Séparation pour Cross validation #"
   ]
  },
  {
   "cell_type": "code",
   "execution_count": 4,
   "metadata": {
    "collapsed": true
   },
   "outputs": [],
   "source": [
    "y_theo = train[\"target\"]\n",
    "n = train.shape[0]\n",
    "n_train = int(n*0.8)\n",
    "train_set = train.iloc[0:n_train,1:train.shape[1]]\n",
    "y_train = y_theo[0:n_train]\n",
    "test_set = train.iloc[n_train:n,1:train.shape[1]]\n",
    "y_test = y_theo[n_train:n]"
   ]
  },
  {
   "cell_type": "markdown",
   "metadata": {},
   "source": [
    "# Scaling #"
   ]
  },
  {
   "cell_type": "code",
   "execution_count": 5,
   "metadata": {},
   "outputs": [],
   "source": [
    "variables = train_set.columns.values\n",
    "p = train_set.shape[1]\n",
    "variables_cat = []\n",
    "variables_bin = []\n",
    "variables_other = []\n",
    "for i in range(p):\n",
    "    name = variables[i]\n",
    "    if(name.find(\"cat\")!=-1):\n",
    "        variables_cat.append(name)\n",
    "    elif(name.find(\"bin\")!=-1):\n",
    "        variables_bin.append(name)\n",
    "    else:\n",
    "        variables_other.append(name)\n",
    "\n",
    "Mean = np.zeros(len(variables_other))\n",
    "Std = np.zeros(len(variables_other))\n",
    "for i in range(len(variables_other)):\n",
    "    Mean[i] = np.mean(train_set[variables_other[i]])\n",
    "    Std[i] = np.std(train_set[variables_other[i]])\n",
    "    train_set[variables_other[i]] = (train_set[variables_other[i]]-Mean[i])/Std[i]\n",
    "    test_set[variables_other[i]] = (test_set[variables_other[i]]-Mean[i])/Std[i]  #We scale the test_set with the same Mean and Std\n",
    "    test[variables_other[i]] = (test[variables_other[i]]-Mean[i])/Std[i]"
   ]
  },
  {
   "cell_type": "markdown",
   "metadata": {},
   "source": [
    "# Classifier #"
   ]
  },
  {
   "cell_type": "markdown",
   "metadata": {},
   "source": [
    "Rk: on demande une sortie en tant que probabilité donc on peut \"abandonner\" la target binaire. Ou répéter des classifications et faire de l'averaging\n",
    "Rk: SVM ici juste à titre d'exemple"
   ]
  },
  {
   "cell_type": "code",
   "execution_count": null,
   "metadata": {},
   "outputs": [],
   "source": [
    "clf = svm.SVC()\n",
    "clf.fit(train_set,y_train)"
   ]
  },
  {
   "cell_type": "markdown",
   "metadata": {},
   "source": [
    "# Prediction #"
   ]
  },
  {
   "cell_type": "code",
   "execution_count": null,
   "metadata": {
    "collapsed": true
   },
   "outputs": [],
   "source": [
    "y_pred = zeros(len(y_test))\n",
    "y_pred = clf.predict(test_set)\n",
    "Accuracy = sum(y_pred==y_test)"
   ]
  },
  {
   "cell_type": "markdown",
   "metadata": {},
   "source": [
    "# Prediction finale #"
   ]
  },
  {
   "cell_type": "code",
   "execution_count": 31,
   "metadata": {},
   "outputs": [],
   "source": [
    "n_test = test.shape[0]\n",
    "y_pred_final = np.zeros(n_test) #Rk: bien que peu important mes id sont float et pas entier ...\n",
    "#y_pred_final = clf.predict(test)\n",
    "\n",
    "res = np.zeros((n_test,2))\n",
    "res[:,0] = test.index\n",
    "\n",
    "for i in range(n_test):\n",
    "    res[i,1] = y_pred_final[i]\n",
    "    \n"
   ]
  },
  {
   "cell_type": "markdown",
   "metadata": {},
   "source": [
    "# Ecriture du résultat #"
   ]
  },
  {
   "cell_type": "code",
   "execution_count": 32,
   "metadata": {},
   "outputs": [],
   "source": [
    "submission = pd.DataFrame(res, columns = ['id','target'])\n",
    "submission.to_csv('submission.csv', index=False) "
   ]
  }
 ],
 "metadata": {
  "kernelspec": {
   "display_name": "Python 3",
   "language": "python",
   "name": "python3"
  },
  "language_info": {
   "codemirror_mode": {
    "name": "ipython",
    "version": 3
   },
   "file_extension": ".py",
   "mimetype": "text/x-python",
   "name": "python",
   "nbconvert_exporter": "python",
   "pygments_lexer": "ipython3",
   "version": "3.6.1"
  }
 },
 "nbformat": 4,
 "nbformat_minor": 2
}
